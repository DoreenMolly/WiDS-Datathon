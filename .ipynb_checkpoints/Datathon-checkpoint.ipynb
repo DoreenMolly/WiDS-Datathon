{
 "cells": [
  {
   "cell_type": "markdown",
   "id": "5294847b-c4d8-41ef-956e-aaef4e276371",
   "metadata": {},
   "source": [
    "hello"
   ]
  },
  {
   "cell_type": "markdown",
   "id": "bdfc6d3d-2372-4ca3-b824-96c9f923e92e",
   "metadata": {},
   "source": [
    "Wow why is this so much work ? huh \n"
   ]
  },
  {
   "cell_type": "markdown",
   "id": "ebf3d975-cc6e-4b39-85a6-c072f71f4fb9",
   "metadata": {},
   "source": [
    "It is getting annoying now. Is it not?"
   ]
  },
  {
   "cell_type": "markdown",
   "id": "baebb28b-bb1f-49a5-9557-49b278be3a6a",
   "metadata": {},
   "source": [
    "ugggh"
   ]
  },
  {
   "cell_type": "markdown",
   "id": "0834d414-05e0-457c-8ac0-8c4a91969189",
   "metadata": {},
   "source": [
    "I think I just figured it out!! Let's see if this works\n"
   ]
  },
  {
   "cell_type": "code",
   "execution_count": null,
   "id": "e336a974-d99c-4867-a863-f8e83a7d1785",
   "metadata": {},
   "outputs": [],
   "source": []
  }
 ],
 "metadata": {
  "kernelspec": {
   "display_name": "Python 3 (ipykernel)",
   "language": "python",
   "name": "python3"
  },
  "language_info": {
   "codemirror_mode": {
    "name": "ipython",
    "version": 3
   },
   "file_extension": ".py",
   "mimetype": "text/x-python",
   "name": "python",
   "nbconvert_exporter": "python",
   "pygments_lexer": "ipython3",
   "version": "3.11.7"
  }
 },
 "nbformat": 4,
 "nbformat_minor": 5
}
